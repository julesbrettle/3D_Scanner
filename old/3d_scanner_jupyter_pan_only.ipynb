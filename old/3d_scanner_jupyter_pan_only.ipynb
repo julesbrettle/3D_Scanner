{
 "cells": [
  {
   "cell_type": "code",
   "execution_count": 64,
   "source": [
    "import serial\r\n",
    "from mpl_toolkits import mplot3d\r\n",
    "%matplotlib inline\r\n",
    "import numpy as np\r\n",
    "import matplotlib.pyplot as plt\r\n",
    "import scipy\r\n",
    "import scipy.optimize"
   ],
   "outputs": [],
   "metadata": {}
  },
  {
   "cell_type": "code",
   "execution_count": 65,
   "source": [
    "# Note 1: This python script was designed to run with Python 3.\r\n",
    "#\r\n",
    "# Note 2: The script uses \"pyserial\" which must be installed.  If you have\r\n",
    "#         previously installed the \"serial\" package, it must be uninstalled\r\n",
    "#         first.\r\n",
    "#\r\n",
    "# Note 3: While this script is running you can not re-program the Arduino.\r\n",
    "#         Before downloading a new Arduino sketch, you must exit this\r\n",
    "#         script first.\r\n",
    "arduinoComPort = \"COM5\"\r\n",
    "\r\n",
    "\r\n",
    "# Set the baud rate\r\n",
    "# NOTE1: The baudRate for the sending and receiving programs must be the same!\r\n",
    "# NOTE2: For faster communication, set the baudRate to 115200 below\r\n",
    "#        and check that the arduino sketch you are using is updated as well.\r\n",
    "baudRate = 9600\r\n",
    "\r\n",
    "\r\n",
    "# open the serial port\r\n",
    "serialPort = serial.Serial(arduinoComPort, baudRate, timeout=1)\r\n",
    "\r\n",
    "\r\n",
    "panMin = 0\r\n",
    "panMax = 70\r\n",
    "panStep = 1\r\n",
    "tiltMin = 0\r\n",
    "tiltMax = 0\r\n",
    "tiltStep = 0\r\n",
    "numRows = int(((panMax-panMin)/panStep +1))\r\n",
    "ptsrData = [[0]*4] * numRows\r\n",
    "# print(ptsrData)\r\n",
    "# ptsrData.astype(int)\r\n",
    "# print(ptsrData)\r\n",
    "\r\n",
    "i = 0\r\n",
    "# main loop to read data from the Arduino, then display it\r\n",
    "while i < numRows:\r\n",
    "    # print(ptsrData)\r\n",
    "    # ask for a line of data from the serial port, the \".decode()\" converts the\r\n",
    "    # data from an \"array of bytes\", to a string\r\n",
    "    lineOfData = serialPort.readline().decode()\r\n",
    "\r\n",
    "    # check if data was received\r\n",
    "    if len(lineOfData) > 0:\r\n",
    "        # print(lineOfData)\r\n",
    "        # print(len(lineOfData))\r\n",
    "\r\n",
    "        if len(lineOfData) == 3:\r\n",
    "            if int(lineOfData) == 1: # done with scan\r\n",
    "                print(ptsrData)\r\n",
    "                i = numRows\r\n",
    "            elif int(lineOfData) == 0: # restarting scan\r\n",
    "                ptsrData = np.zeros((numRows,4))\r\n",
    "                i = 0\r\n",
    "        else: # continue with this scan\r\n",
    "            # data was received, convert it into 4 integers\r\n",
    "            panPos, tiltPos, senseVal = (int(x) for x in lineOfData.split(','))\r\n",
    "\r\n",
    "            # # print the results\r\n",
    "            # print(\"panPos = \" + str(panPos), end=\"\")\r\n",
    "            # print(\", tiltPos = \" + str(tiltPos), end=\"\")\r\n",
    "            # print(\", senseVal = \" + str(senseVal))\r\n",
    "            print([panPos, tiltPos, senseVal, 0.0])\r\n",
    "            ptsrData[i] = [panPos, tiltPos, senseVal, 0.0]\r\n",
    "            i = i+1"
   ],
   "outputs": [
    {
     "output_type": "stream",
     "name": "stdout",
     "text": [
      "[0, 43, 39, 0.0]\n",
      "[2, 43, 4, 0.0]\n",
      "[4, 43, 8, 0.0]\n",
      "[6, 43, 4, 0.0]\n",
      "[8, 43, 5, 0.0]\n",
      "[10, 43, 31, 0.0]\n",
      "[12, 43, 492, 0.0]\n",
      "[14, 43, 410, 0.0]\n",
      "[16, 43, 401, 0.0]\n",
      "[18, 43, 401, 0.0]\n",
      "[20, 43, 404, 0.0]\n",
      "[22, 43, 380, 0.0]\n",
      "[24, 43, 364, 0.0]\n",
      "[26, 43, 357, 0.0]\n",
      "[28, 43, 345, 0.0]\n",
      "[30, 43, 368, 0.0]\n",
      "[32, 43, 409, 0.0]\n",
      "[34, 43, 401, 0.0]\n",
      "[36, 43, 467, 0.0]\n",
      "[38, 43, 398, 0.0]\n",
      "[40, 43, 390, 0.0]\n",
      "[42, 43, 390, 0.0]\n",
      "[44, 43, 352, 0.0]\n",
      "[46, 43, 66, 0.0]\n",
      "[48, 43, 7, 0.0]\n",
      "[50, 43, 0, 0.0]\n",
      "[52, 43, 5, 0.0]\n",
      "[54, 43, 9, 0.0]\n",
      "[56, 43, 4, 0.0]\n",
      "[58, 43, 6, 0.0]\n",
      "[60, 43, 4, 0.0]\n",
      "[62, 43, 4, 0.0]\n",
      "[64, 43, 12, 0.0]\n",
      "[66, 43, 7, 0.0]\n",
      "[68, 43, 7, 0.0]\n",
      "[70, 43, 5, 0.0]\n",
      "[[0, 43, 39, 0.0], [2, 43, 4, 0.0], [4, 43, 8, 0.0], [6, 43, 4, 0.0], [8, 43, 5, 0.0], [10, 43, 31, 0.0], [12, 43, 492, 0.0], [14, 43, 410, 0.0], [16, 43, 401, 0.0], [18, 43, 401, 0.0], [20, 43, 404, 0.0], [22, 43, 380, 0.0], [24, 43, 364, 0.0], [26, 43, 357, 0.0], [28, 43, 345, 0.0], [30, 43, 368, 0.0], [32, 43, 409, 0.0], [34, 43, 401, 0.0], [36, 43, 467, 0.0], [38, 43, 398, 0.0], [40, 43, 390, 0.0], [42, 43, 390, 0.0], [44, 43, 352, 0.0], [46, 43, 66, 0.0], [48, 43, 7, 0.0], [50, 43, 0, 0.0], [52, 43, 5, 0.0], [54, 43, 9, 0.0], [56, 43, 4, 0.0], [58, 43, 6, 0.0], [60, 43, 4, 0.0], [62, 43, 4, 0.0], [64, 43, 12, 0.0], [66, 43, 7, 0.0], [68, 43, 7, 0.0], [70, 43, 5, 0.0], [0, 0, 0, 0], [0, 0, 0, 0], [0, 0, 0, 0], [0, 0, 0, 0], [0, 0, 0, 0], [0, 0, 0, 0], [0, 0, 0, 0], [0, 0, 0, 0], [0, 0, 0, 0], [0, 0, 0, 0], [0, 0, 0, 0], [0, 0, 0, 0], [0, 0, 0, 0], [0, 0, 0, 0], [0, 0, 0, 0], [0, 0, 0, 0], [0, 0, 0, 0], [0, 0, 0, 0], [0, 0, 0, 0], [0, 0, 0, 0], [0, 0, 0, 0], [0, 0, 0, 0], [0, 0, 0, 0], [0, 0, 0, 0], [0, 0, 0, 0], [0, 0, 0, 0], [0, 0, 0, 0], [0, 0, 0, 0], [0, 0, 0, 0], [0, 0, 0, 0], [0, 0, 0, 0], [0, 0, 0, 0], [0, 0, 0, 0], [0, 0, 0, 0], [0, 0, 0, 0]]\n"
     ]
    }
   ],
   "metadata": {}
  },
  {
   "cell_type": "code",
   "execution_count": 66,
   "source": [
    "# print(ptsrData)\r\n",
    "ptsrNP = np.array(ptsrData)\r\n",
    "print(ptsrNP)\r\n"
   ],
   "outputs": [
    {
     "output_type": "stream",
     "name": "stdout",
     "text": [
      "[[  0.  43.  39.   0.]\n",
      " [  2.  43.   4.   0.]\n",
      " [  4.  43.   8.   0.]\n",
      " [  6.  43.   4.   0.]\n",
      " [  8.  43.   5.   0.]\n",
      " [ 10.  43.  31.   0.]\n",
      " [ 12.  43. 492.   0.]\n",
      " [ 14.  43. 410.   0.]\n",
      " [ 16.  43. 401.   0.]\n",
      " [ 18.  43. 401.   0.]\n",
      " [ 20.  43. 404.   0.]\n",
      " [ 22.  43. 380.   0.]\n",
      " [ 24.  43. 364.   0.]\n",
      " [ 26.  43. 357.   0.]\n",
      " [ 28.  43. 345.   0.]\n",
      " [ 30.  43. 368.   0.]\n",
      " [ 32.  43. 409.   0.]\n",
      " [ 34.  43. 401.   0.]\n",
      " [ 36.  43. 467.   0.]\n",
      " [ 38.  43. 398.   0.]\n",
      " [ 40.  43. 390.   0.]\n",
      " [ 42.  43. 390.   0.]\n",
      " [ 44.  43. 352.   0.]\n",
      " [ 46.  43.  66.   0.]\n",
      " [ 48.  43.   7.   0.]\n",
      " [ 50.  43.   0.   0.]\n",
      " [ 52.  43.   5.   0.]\n",
      " [ 54.  43.   9.   0.]\n",
      " [ 56.  43.   4.   0.]\n",
      " [ 58.  43.   6.   0.]\n",
      " [ 60.  43.   4.   0.]\n",
      " [ 62.  43.   4.   0.]\n",
      " [ 64.  43.  12.   0.]\n",
      " [ 66.  43.   7.   0.]\n",
      " [ 68.  43.   7.   0.]\n",
      " [ 70.  43.   5.   0.]\n",
      " [  0.   0.   0.   0.]\n",
      " [  0.   0.   0.   0.]\n",
      " [  0.   0.   0.   0.]\n",
      " [  0.   0.   0.   0.]\n",
      " [  0.   0.   0.   0.]\n",
      " [  0.   0.   0.   0.]\n",
      " [  0.   0.   0.   0.]\n",
      " [  0.   0.   0.   0.]\n",
      " [  0.   0.   0.   0.]\n",
      " [  0.   0.   0.   0.]\n",
      " [  0.   0.   0.   0.]\n",
      " [  0.   0.   0.   0.]\n",
      " [  0.   0.   0.   0.]\n",
      " [  0.   0.   0.   0.]\n",
      " [  0.   0.   0.   0.]\n",
      " [  0.   0.   0.   0.]\n",
      " [  0.   0.   0.   0.]\n",
      " [  0.   0.   0.   0.]\n",
      " [  0.   0.   0.   0.]\n",
      " [  0.   0.   0.   0.]\n",
      " [  0.   0.   0.   0.]\n",
      " [  0.   0.   0.   0.]\n",
      " [  0.   0.   0.   0.]\n",
      " [  0.   0.   0.   0.]\n",
      " [  0.   0.   0.   0.]\n",
      " [  0.   0.   0.   0.]\n",
      " [  0.   0.   0.   0.]\n",
      " [  0.   0.   0.   0.]\n",
      " [  0.   0.   0.   0.]\n",
      " [  0.   0.   0.   0.]\n",
      " [  0.   0.   0.   0.]\n",
      " [  0.   0.   0.   0.]\n",
      " [  0.   0.   0.   0.]\n",
      " [  0.   0.   0.   0.]\n",
      " [  0.   0.   0.   0.]]\n"
     ]
    }
   ],
   "metadata": {}
  },
  {
   "cell_type": "code",
   "execution_count": 67,
   "source": [
    "fig = plt.figure()\r\n",
    "ax = plt.axes(projection='3d')\r\n",
    "ax.scatter3D(ptsrNP[:,0], ptsrNP[:,1], ptsrNP[:,2])\r\n"
   ],
   "outputs": [
    {
     "output_type": "execute_result",
     "data": {
      "text/plain": [
       "<mpl_toolkits.mplot3d.art3d.Path3DCollection at 0x2024a2fc4f0>"
      ]
     },
     "metadata": {},
     "execution_count": 67
    },
    {
     "output_type": "display_data",
     "data": {
      "image/png": "[encoded data removed]",
      "text/plain": [
       "<Figure size 432x288 with 1 Axes>"
      ]
     },
     "metadata": {
      "needs_background": "light"
     }
    }
   ],
   "metadata": {}
  },
  {
   "cell_type": "code",
   "execution_count": 68,
   "source": [
    "dsNP = np.load(\"calibration_data_0.npy\")\r\n",
    "\r\n",
    "print(dsNP)\r\n",
    "\r\n",
    "c = np.polyfit(dsNP[:,1],dsNP[:,0],6)\r\n",
    "print(c)\r\n",
    "\r\n",
    "xp = np.linspace(np.amin(dsNP[:,1]),np.amax(dsNP[:,1]), 100)\r\n",
    "# xp = np.linspace(0,400, 100)\r\n",
    "p = np.poly1d(c)\r\n",
    "\r\n",
    "i = 0\r\n",
    "while i < numRows:\r\n",
    "    if ptsrNP[i,2]>np.amax(dsNP[:,1]):\r\n",
    "        ptsrNP[i,3] = np.amin(dsNP[:,0])\r\n",
    "    elif ptsrNP[i,2]<np.amin(dsNP[:,1]):\r\n",
    "        ptsrNP[i,3] = np.amax(dsNP[:,0])\r\n",
    "    else:\r\n",
    "        ptsrNP[i,3] = p(ptsrNP[i,2])\r\n",
    "    i = i+1\r\n",
    "\r\n",
    "# i = 0\r\n",
    "# while i < numRows:\r\n",
    "#     if ptsrNP[i,3]>100:\r\n",
    "#         ptsrNP[i,3] = 0\r\n",
    "#     elif ptsrNP[i,3]<10:\r\n",
    "#         ptsrNP[i,3] = 0\r\n",
    "#     else:\r\n",
    "#         ptsrNP[i,3] = p(ptsrNP[i,2])\r\n",
    "#     i = i+1\r\n",
    "\r\n",
    "print(ptsrNP)\r\n",
    "\r\n",
    "fig = plt.figure()\r\n",
    "ax = plt.axes()\r\n",
    "plt.plot(dsNP[:,0],dsNP[:,1], 'o', p(xp),xp, '-',ptsrNP[:,3],ptsrNP[:,2],'.')"
   ],
   "outputs": [
    {
     "output_type": "stream",
     "name": "stdout",
     "text": [
      "[[ 20.32 460.  ]\n",
      " [ 22.86 435.  ]\n",
      " [ 25.4  405.  ]\n",
      " [ 27.94 375.  ]\n",
      " [ 30.48 355.  ]\n",
      " [ 33.02 330.  ]\n",
      " [ 35.56 310.  ]\n",
      " [ 38.1  295.  ]\n",
      " [ 40.64 273.  ]\n",
      " [ 50.8  211.  ]\n",
      " [ 60.96 173.  ]\n",
      " [ 71.12 157.  ]\n",
      " [ 81.28 138.  ]\n",
      " [ 91.44 110.  ]\n",
      " [101.6  102.  ]\n",
      " [111.76  95.  ]\n",
      " [121.92  82.  ]\n",
      " [132.08  65.  ]\n",
      " [142.24  50.  ]\n",
      " [152.4   40.  ]]\n",
      "[-3.64092814e-13  6.06928427e-10 -3.92946032e-07  1.21086134e-04\n",
      " -1.63738052e-02  1.69784848e-01  1.63890239e+02]\n",
      "[[  0.          43.          39.         152.4       ]\n",
      " [  2.          43.           4.         152.4       ]\n",
      " [  4.          43.           8.         152.4       ]\n",
      " [  6.          43.           4.         152.4       ]\n",
      " [  8.          43.           5.         152.4       ]\n",
      " [ 10.          43.          31.         152.4       ]\n",
      " [ 12.          43.         492.          20.32      ]\n",
      " [ 14.          43.         410.          24.89046114]\n",
      " [ 16.          43.         401.          25.62763459]\n",
      " [ 18.          43.         401.          25.62763459]\n",
      " [ 20.          43.         404.          25.37694802]\n",
      " [ 22.          43.         380.          27.55747468]\n",
      " [ 24.          43.         364.          29.24354644]\n",
      " [ 26.          43.         357.          30.03288183]\n",
      " [ 28.          43.         345.          31.44350625]\n",
      " [ 30.          43.         368.          28.8057148 ]\n",
      " [ 32.          43.         409.          24.97032217]\n",
      " [ 34.          43.         401.          25.62763459]\n",
      " [ 36.          43.         467.          20.32      ]\n",
      " [ 38.          43.         398.          25.88399776]\n",
      " [ 40.          43.         390.          26.598136  ]\n",
      " [ 42.          43.         390.          26.598136  ]\n",
      " [ 44.          43.         352.          30.6127399 ]\n",
      " [ 46.          43.          66.         131.85745795]\n",
      " [ 48.          43.           7.         152.4       ]\n",
      " [ 50.          43.           0.         152.4       ]\n",
      " [ 52.          43.           5.         152.4       ]\n",
      " [ 54.          43.           9.         152.4       ]\n",
      " [ 56.          43.           4.         152.4       ]\n",
      " [ 58.          43.           6.         152.4       ]\n",
      " [ 60.          43.           4.         152.4       ]\n",
      " [ 62.          43.           4.         152.4       ]\n",
      " [ 64.          43.          12.         152.4       ]\n",
      " [ 66.          43.           7.         152.4       ]\n",
      " [ 68.          43.           7.         152.4       ]\n",
      " [ 70.          43.           5.         152.4       ]\n",
      " [  0.           0.           0.         152.4       ]\n",
      " [  0.           0.           0.         152.4       ]\n",
      " [  0.           0.           0.         152.4       ]\n",
      " [  0.           0.           0.         152.4       ]\n",
      " [  0.           0.           0.         152.4       ]\n",
      " [  0.           0.           0.         152.4       ]\n",
      " [  0.           0.           0.         152.4       ]\n",
      " [  0.           0.           0.         152.4       ]\n",
      " [  0.           0.           0.         152.4       ]\n",
      " [  0.           0.           0.         152.4       ]\n",
      " [  0.           0.           0.         152.4       ]\n",
      " [  0.           0.           0.         152.4       ]\n",
      " [  0.           0.           0.         152.4       ]\n",
      " [  0.           0.           0.         152.4       ]\n",
      " [  0.           0.           0.         152.4       ]\n",
      " [  0.           0.           0.         152.4       ]\n",
      " [  0.           0.           0.         152.4       ]\n",
      " [  0.           0.           0.         152.4       ]\n",
      " [  0.           0.           0.         152.4       ]\n",
      " [  0.           0.           0.         152.4       ]\n",
      " [  0.           0.           0.         152.4       ]\n",
      " [  0.           0.           0.         152.4       ]\n",
      " [  0.           0.           0.         152.4       ]\n",
      " [  0.           0.           0.         152.4       ]\n",
      " [  0.           0.           0.         152.4       ]\n",
      " [  0.           0.           0.         152.4       ]\n",
      " [  0.           0.           0.         152.4       ]\n",
      " [  0.           0.           0.         152.4       ]\n",
      " [  0.           0.           0.         152.4       ]\n",
      " [  0.           0.           0.         152.4       ]\n",
      " [  0.           0.           0.         152.4       ]\n",
      " [  0.           0.           0.         152.4       ]\n",
      " [  0.           0.           0.         152.4       ]\n",
      " [  0.           0.           0.         152.4       ]\n",
      " [  0.           0.           0.         152.4       ]]\n"
     ]
    },
    {
     "output_type": "execute_result",
     "data": {
      "text/plain": [
       "[<matplotlib.lines.Line2D at 0x2024b345640>,\n",
       " <matplotlib.lines.Line2D at 0x2024b3455e0>,\n",
       " <matplotlib.lines.Line2D at 0x2024b345610>]"
      ]
     },
     "metadata": {},
     "execution_count": 68
    },
    {
     "output_type": "display_data",
     "data": {
      "image/png": "[encoded data removed]",
      "text/plain": [
       "<Figure size 432x288 with 1 Axes>"
      ]
     },
     "metadata": {
      "needs_background": "light"
     }
    }
   ],
   "metadata": {}
  },
  {
   "cell_type": "code",
   "execution_count": 69,
   "source": [
    "fig = plt.figure()\r\n",
    "ax = plt.axes()\r\n",
    "plt.plot(-ptsrNP[:,0],ptsrNP[:,3], 'o')"
   ],
   "outputs": [
    {
     "output_type": "execute_result",
     "data": {
      "text/plain": [
       "[<matplotlib.lines.Line2D at 0x2024a298bb0>]"
      ]
     },
     "metadata": {},
     "execution_count": 69
    },
    {
     "output_type": "display_data",
     "data": {
      "image/png": "[encoded data removed]",
      "text/plain": [
       "<Figure size 432x288 with 1 Axes>"
      ]
     },
     "metadata": {
      "needs_background": "light"
     }
    }
   ],
   "metadata": {}
  },
  {
   "cell_type": "code",
   "execution_count": 70,
   "source": [
    "fig = plt.figure()\r\n",
    "ax = plt.axes()\r\n",
    "plt.scatter(-ptsrNP[:,1],-ptsrNP[:,0],s=None,c=ptsrNP[:,3])\r\n",
    "ax.set_aspect('equal', 'box')"
   ],
   "outputs": [
    {
     "output_type": "display_data",
     "data": {
      "image/png": "[encoded data removed]",
      "text/plain": [
       "<Figure size 432x288 with 1 Axes>"
      ]
     },
     "metadata": {
      "needs_background": "light"
     }
    }
   ],
   "metadata": {}
  },
  {
   "cell_type": "code",
   "execution_count": 71,
   "source": [
    "np.save(\"scan1\",ptsrNP)"
   ],
   "outputs": [],
   "metadata": {}
  },
  {
   "cell_type": "code",
   "execution_count": 72,
   "source": [
    "ptsrNP_loaded = np.load(\"scan1.npy\")\r\n",
    "fig = plt.figure()\r\n",
    "ax = plt.axes()\r\n",
    "plt.scatter(-ptsrNP_loaded[:,1],-ptsrNP_loaded[:,0],s=None,c=ptsrNP_loaded[:,3])\r\n",
    "ax.set_aspect('equal', 'box')"
   ],
   "outputs": [
    {
     "output_type": "display_data",
     "data": {
      "image/png": "[encoded data removed]",
      "text/plain": [
       "<Figure size 432x288 with 1 Axes>"
      ]
     },
     "metadata": {
      "needs_background": "light"
     }
    }
   ],
   "metadata": {}
  }
 ],
 "metadata": {
  "orig_nbformat": 4,
  "language_info": {
   "name": "python",
   "version": "3.9.6",
   "mimetype": "text/x-python",
   "codemirror_mode": {
    "name": "ipython",
    "version": 3
   },
   "pygments_lexer": "ipython3",
   "nbconvert_exporter": "python",
   "file_extension": ".py"
  },
  "kernelspec": {
   "name": "python3",
   "display_name": "Python 3.9.6 64-bit"
  },
  "interpreter": {
   "hash": "671e7f27cf424b1ed37e974081cd584b0b4c8d3fb844ca4de4628ddafd1e0149"
  }
 },
 "nbformat": 4,
 "nbformat_minor": 2
}